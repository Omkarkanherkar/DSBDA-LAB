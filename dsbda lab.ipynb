{
 "cells": [
  {
   "cell_type": "code",
   "execution_count": 74,
   "id": "70ab0f83",
   "metadata": {},
   "outputs": [],
   "source": [
    "import pandas as pd\n",
    "import numpy as np\n",
    "df1=pd.DataFrame({'Roll_no':[1,2,3,4,5],\"student_Name\":[\"omkar\",\"DK\",\"SK\",\"pk\",\"MK\"]})\n",
    "df2=pd.DataFrame({'Roll_no':[1,2,3,4,5],\"Marks\":[56,None,89,90,45]})\n",
    "\n",
    "\n"
   ]
  },
  {
   "cell_type": "code",
   "execution_count": 75,
   "id": "c40b4499",
   "metadata": {},
   "outputs": [
    {
     "name": "stdout",
     "output_type": "stream",
     "text": [
      "   Roll_no student_Name  Marks\n",
      "0        1        omkar   56.0\n",
      "1        2           DK    NaN\n",
      "2        3           SK   89.0\n",
      "3        4           pk   90.0\n",
      "4        5           MK   45.0\n"
     ]
    }
   ],
   "source": [
    "df=pd.merge(df1,df2,on=\"Roll_no\")\n",
    "print(df)"
   ]
  },
  {
   "cell_type": "code",
   "execution_count": 76,
   "id": "424a2b91",
   "metadata": {},
   "outputs": [
    {
     "data": {
      "text/html": [
       "<div>\n",
       "<style scoped>\n",
       "    .dataframe tbody tr th:only-of-type {\n",
       "        vertical-align: middle;\n",
       "    }\n",
       "\n",
       "    .dataframe tbody tr th {\n",
       "        vertical-align: top;\n",
       "    }\n",
       "\n",
       "    .dataframe thead th {\n",
       "        text-align: right;\n",
       "    }\n",
       "</style>\n",
       "<table border=\"1\" class=\"dataframe\">\n",
       "  <thead>\n",
       "    <tr style=\"text-align: right;\">\n",
       "      <th>student_Name</th>\n",
       "      <th>DK</th>\n",
       "      <th>MK</th>\n",
       "      <th>SK</th>\n",
       "      <th>omkar</th>\n",
       "      <th>pk</th>\n",
       "    </tr>\n",
       "    <tr>\n",
       "      <th>Roll_no</th>\n",
       "      <th></th>\n",
       "      <th></th>\n",
       "      <th></th>\n",
       "      <th></th>\n",
       "      <th></th>\n",
       "    </tr>\n",
       "  </thead>\n",
       "  <tbody>\n",
       "    <tr>\n",
       "      <th>1</th>\n",
       "      <td>NaN</td>\n",
       "      <td>NaN</td>\n",
       "      <td>NaN</td>\n",
       "      <td>56.0</td>\n",
       "      <td>NaN</td>\n",
       "    </tr>\n",
       "    <tr>\n",
       "      <th>2</th>\n",
       "      <td>NaN</td>\n",
       "      <td>NaN</td>\n",
       "      <td>NaN</td>\n",
       "      <td>NaN</td>\n",
       "      <td>NaN</td>\n",
       "    </tr>\n",
       "    <tr>\n",
       "      <th>3</th>\n",
       "      <td>NaN</td>\n",
       "      <td>NaN</td>\n",
       "      <td>89.0</td>\n",
       "      <td>NaN</td>\n",
       "      <td>NaN</td>\n",
       "    </tr>\n",
       "    <tr>\n",
       "      <th>4</th>\n",
       "      <td>NaN</td>\n",
       "      <td>NaN</td>\n",
       "      <td>NaN</td>\n",
       "      <td>NaN</td>\n",
       "      <td>90.0</td>\n",
       "    </tr>\n",
       "    <tr>\n",
       "      <th>5</th>\n",
       "      <td>NaN</td>\n",
       "      <td>45.0</td>\n",
       "      <td>NaN</td>\n",
       "      <td>NaN</td>\n",
       "      <td>NaN</td>\n",
       "    </tr>\n",
       "  </tbody>\n",
       "</table>\n",
       "</div>"
      ],
      "text/plain": [
       "student_Name  DK    MK    SK  omkar    pk\n",
       "Roll_no                                  \n",
       "1            NaN   NaN   NaN   56.0   NaN\n",
       "2            NaN   NaN   NaN    NaN   NaN\n",
       "3            NaN   NaN  89.0    NaN   NaN\n",
       "4            NaN   NaN   NaN    NaN  90.0\n",
       "5            NaN  45.0   NaN    NaN   NaN"
      ]
     },
     "execution_count": 76,
     "metadata": {},
     "output_type": "execute_result"
    }
   ],
   "source": [
    "df.pivot(index=\"Roll_no\",columns=\"student_Name\",values=\"Marks\")"
   ]
  },
  {
   "cell_type": "code",
   "execution_count": 77,
   "id": "3428e316",
   "metadata": {},
   "outputs": [
    {
     "data": {
      "text/html": [
       "<div>\n",
       "<style scoped>\n",
       "    .dataframe tbody tr th:only-of-type {\n",
       "        vertical-align: middle;\n",
       "    }\n",
       "\n",
       "    .dataframe tbody tr th {\n",
       "        vertical-align: top;\n",
       "    }\n",
       "\n",
       "    .dataframe thead th {\n",
       "        text-align: right;\n",
       "    }\n",
       "</style>\n",
       "<table border=\"1\" class=\"dataframe\">\n",
       "  <thead>\n",
       "    <tr style=\"text-align: right;\">\n",
       "      <th></th>\n",
       "      <th>Roll_no</th>\n",
       "      <th>student_Name</th>\n",
       "      <th>Marks</th>\n",
       "    </tr>\n",
       "  </thead>\n",
       "  <tbody>\n",
       "    <tr>\n",
       "      <th>0</th>\n",
       "      <td>1</td>\n",
       "      <td>omkar</td>\n",
       "      <td>56.0</td>\n",
       "    </tr>\n",
       "    <tr>\n",
       "      <th>1</th>\n",
       "      <td>2</td>\n",
       "      <td>DK</td>\n",
       "      <td>56.0</td>\n",
       "    </tr>\n",
       "    <tr>\n",
       "      <th>2</th>\n",
       "      <td>3</td>\n",
       "      <td>SK</td>\n",
       "      <td>89.0</td>\n",
       "    </tr>\n",
       "    <tr>\n",
       "      <th>3</th>\n",
       "      <td>4</td>\n",
       "      <td>pk</td>\n",
       "      <td>90.0</td>\n",
       "    </tr>\n",
       "    <tr>\n",
       "      <th>4</th>\n",
       "      <td>5</td>\n",
       "      <td>MK</td>\n",
       "      <td>45.0</td>\n",
       "    </tr>\n",
       "  </tbody>\n",
       "</table>\n",
       "</div>"
      ],
      "text/plain": [
       "   Roll_no student_Name  Marks\n",
       "0        1        omkar   56.0\n",
       "1        2           DK   56.0\n",
       "2        3           SK   89.0\n",
       "3        4           pk   90.0\n",
       "4        5           MK   45.0"
      ]
     },
     "execution_count": 77,
     "metadata": {},
     "output_type": "execute_result"
    }
   ],
   "source": [
    "df.ffill(axis=0)"
   ]
  },
  {
   "cell_type": "code",
   "execution_count": 78,
   "id": "10b57282",
   "metadata": {},
   "outputs": [
    {
     "name": "stderr",
     "output_type": "stream",
     "text": [
      "/tmp/ipykernel_4437/3437504993.py:1: FutureWarning: DataFrame.backfill/Series.backfill is deprecated. Use DataFrame.bfill/Series.bfill instead\n",
      "  df.backfill(axis='rows')\n"
     ]
    },
    {
     "data": {
      "text/html": [
       "<div>\n",
       "<style scoped>\n",
       "    .dataframe tbody tr th:only-of-type {\n",
       "        vertical-align: middle;\n",
       "    }\n",
       "\n",
       "    .dataframe tbody tr th {\n",
       "        vertical-align: top;\n",
       "    }\n",
       "\n",
       "    .dataframe thead th {\n",
       "        text-align: right;\n",
       "    }\n",
       "</style>\n",
       "<table border=\"1\" class=\"dataframe\">\n",
       "  <thead>\n",
       "    <tr style=\"text-align: right;\">\n",
       "      <th></th>\n",
       "      <th>Roll_no</th>\n",
       "      <th>student_Name</th>\n",
       "      <th>Marks</th>\n",
       "    </tr>\n",
       "  </thead>\n",
       "  <tbody>\n",
       "    <tr>\n",
       "      <th>0</th>\n",
       "      <td>1</td>\n",
       "      <td>omkar</td>\n",
       "      <td>56.0</td>\n",
       "    </tr>\n",
       "    <tr>\n",
       "      <th>1</th>\n",
       "      <td>2</td>\n",
       "      <td>DK</td>\n",
       "      <td>89.0</td>\n",
       "    </tr>\n",
       "    <tr>\n",
       "      <th>2</th>\n",
       "      <td>3</td>\n",
       "      <td>SK</td>\n",
       "      <td>89.0</td>\n",
       "    </tr>\n",
       "    <tr>\n",
       "      <th>3</th>\n",
       "      <td>4</td>\n",
       "      <td>pk</td>\n",
       "      <td>90.0</td>\n",
       "    </tr>\n",
       "    <tr>\n",
       "      <th>4</th>\n",
       "      <td>5</td>\n",
       "      <td>MK</td>\n",
       "      <td>45.0</td>\n",
       "    </tr>\n",
       "  </tbody>\n",
       "</table>\n",
       "</div>"
      ],
      "text/plain": [
       "   Roll_no student_Name  Marks\n",
       "0        1        omkar   56.0\n",
       "1        2           DK   89.0\n",
       "2        3           SK   89.0\n",
       "3        4           pk   90.0\n",
       "4        5           MK   45.0"
      ]
     },
     "execution_count": 78,
     "metadata": {},
     "output_type": "execute_result"
    }
   ],
   "source": [
    "df.backfill(axis='rows')"
   ]
  },
  {
   "cell_type": "code",
   "execution_count": 82,
   "id": "78e60cd8",
   "metadata": {},
   "outputs": [
    {
     "name": "stdout",
     "output_type": "stream",
     "text": [
      "    Sr.\\nno. Roll No               Name of the Student  DM   FDS OOP  CG  \\\n",
      "0          1  SCOA01                     ALISHA SHEIKH  24  27.0  20  15   \n",
      "1          2  SCOA02         SOHAM JAYYANNTH DESHMUKKH  16   9.0   9  AB   \n",
      "2          3  SCOA03                SHELAR NEHA NILESH  20  23.0  16  15   \n",
      "3          4  SCOA04                       RIYA JAWALE  18  14.0  11   8   \n",
      "4          5  SCOA05             NARHE VARSHA RAOSAHEB  20  24.0  16  24   \n",
      "5          6  SCOA06           BHUTDA MAHESH SHANTILAL  20   9.0  AB   0   \n",
      "6          7  SCOA07              JAGTAP HARISH YUVRAJ  22  18.0   3  16   \n",
      "7          8  SCOA08         DESHPANDE SRUSHTI VINAYAK  24  20.0  19  16   \n",
      "8          9  SCOA09              DARWEY RUDRA GUNWANT  22  12.0   9  15   \n",
      "9         10  SCOA10                ERANDE TEJAS DIPAK  24  18.0  11  23   \n",
      "10        11  SCOA11             TRIPATHI VIKALP VIKAS  18  13.0   7  18   \n",
      "11        12  SCOA12  SHAIKH AMAAN AHMED SHAKEEL AHMED  20  23.0  24  21   \n",
      "12        13  SCOA13              MUNGASE SARTHAK ANIL  16  24.0  12  29   \n",
      "13        14  SCOA14                 GOYAL SURAJ MANOJ  16  19.0   9  13   \n",
      "14        15  SCOA15              DHAWNE DEVANG GANESH  18  21.0  12  12   \n",
      "15        16  SCOA16              SHELKE GAURAV GIRISH  20  19.0  12   9   \n",
      "16        17  SCOA17           KHATAL NANDINI RAJENDRA  12   NaN   5   7   \n",
      "17        18  SCOA18           BHUJBAL SRUSHTI VINAYAK  24  24.0  19  28   \n",
      "18        19  SCOA19       CHINCHANE SANSKRUTI GAJANAN  22  23.0   7  14   \n",
      "19        20  SCOA20                VIDULA VIKAS PATIL  20  24.0  16  26   \n",
      "20        21  SCOA21           BHONGALE OMKAR MADHUKAR  22  17.0  19  10   \n",
      "\n",
      "    DELD Gender  \n",
      "0     16      f  \n",
      "1      5      m  \n",
      "2     15      m  \n",
      "3     15      m  \n",
      "4     20      f  \n",
      "5     29      f  \n",
      "6      7      m  \n",
      "7     23      m  \n",
      "8      7      m  \n",
      "9      6      m  \n",
      "10    10      f  \n",
      "11     8      f  \n",
      "12     9      m  \n",
      "13    10      f  \n",
      "14    13      f  \n",
      "15    16      m  \n",
      "16    23      f  \n",
      "17    17      f  \n",
      "18    14      m  \n",
      "19    20      m  \n",
      "20    13      f  \n"
     ]
    }
   ],
   "source": [
    "df2=pd.read_excel('/home/ubuntu/Downloads/document.xlsx')\n",
    "print(df2)"
   ]
  },
  {
   "cell_type": "code",
   "execution_count": 89,
   "id": "c6caea78",
   "metadata": {},
   "outputs": [
    {
     "name": "stdout",
     "output_type": "stream",
     "text": [
      "    Sr.\\nno. Roll No          Name of the Student  DM   FDS OOP  CG  DELD  \\\n",
      "1          2  SCOA02    SOHAM JAYYANNTH DESHMUKKH  16   9.0   9  AB     5   \n",
      "2          3  SCOA03           SHELAR NEHA NILESH  20  23.0  16  15    15   \n",
      "3          4  SCOA04                  RIYA JAWALE  18  14.0  11   8    15   \n",
      "6          7  SCOA07         JAGTAP HARISH YUVRAJ  22  18.0   3  16     7   \n",
      "7          8  SCOA08    DESHPANDE SRUSHTI VINAYAK  24  20.0  19  16    23   \n",
      "8          9  SCOA09         DARWEY RUDRA GUNWANT  22  12.0   9  15     7   \n",
      "9         10  SCOA10           ERANDE TEJAS DIPAK  24  18.0  11  23     6   \n",
      "12        13  SCOA13         MUNGASE SARTHAK ANIL  16  24.0  12  29     9   \n",
      "15        16  SCOA16         SHELKE GAURAV GIRISH  20  19.0  12   9    16   \n",
      "18        19  SCOA19  CHINCHANE SANSKRUTI GAJANAN  22  23.0   7  14    14   \n",
      "19        20  SCOA20           VIDULA VIKAS PATIL  20  24.0  16  26    20   \n",
      "\n",
      "   Gender  \n",
      "1       m  \n",
      "2       m  \n",
      "3       m  \n",
      "6       m  \n",
      "7       m  \n",
      "8       m  \n",
      "9       m  \n",
      "12      m  \n",
      "15      m  \n",
      "18      m  \n",
      "19      m  \n",
      "    Sr.\\nno. Roll No               Name of the Student  DM   FDS OOP  CG  \\\n",
      "0          1  SCOA01                     ALISHA SHEIKH  24  27.0  20  15   \n",
      "4          5  SCOA05             NARHE VARSHA RAOSAHEB  20  24.0  16  24   \n",
      "5          6  SCOA06           BHUTDA MAHESH SHANTILAL  20   9.0  AB   0   \n",
      "10        11  SCOA11             TRIPATHI VIKALP VIKAS  18  13.0   7  18   \n",
      "11        12  SCOA12  SHAIKH AMAAN AHMED SHAKEEL AHMED  20  23.0  24  21   \n",
      "13        14  SCOA14                 GOYAL SURAJ MANOJ  16  19.0   9  13   \n",
      "14        15  SCOA15              DHAWNE DEVANG GANESH  18  21.0  12  12   \n",
      "16        17  SCOA17           KHATAL NANDINI RAJENDRA  12   NaN   5   7   \n",
      "17        18  SCOA18           BHUJBAL SRUSHTI VINAYAK  24  24.0  19  28   \n",
      "20        21  SCOA21           BHONGALE OMKAR MADHUKAR  22  17.0  19  10   \n",
      "\n",
      "    DELD Gender  \n",
      "0     16      f  \n",
      "4     20      f  \n",
      "5     29      f  \n",
      "10    10      f  \n",
      "11     8      f  \n",
      "13    10      f  \n",
      "14    13      f  \n",
      "16    23      f  \n",
      "17    17      f  \n",
      "20    13      f  \n"
     ]
    }
   ],
   "source": [
    "dg = df2.groupby('Gender')\n",
    "dg.first()\n",
    "dg.count()\n",
    "print(dg.get_group('m'))\n",
    "\n",
    "print(dg.get_group('f'))\n",
    "\n"
   ]
  },
  {
   "cell_type": "code",
   "execution_count": 81,
   "id": "a2d57139",
   "metadata": {},
   "outputs": [
    {
     "name": "stdout",
     "output_type": "stream",
     "text": [
      "--- f ---\n",
      "   Roll No               Name of the Student  DM   FDS OOP  CG DELD\n",
      "0   SCOA01                     ALISHA SHEIKH  24  27.0  20  15   16\n",
      "4   SCOA05             NARHE VARSHA RAOSAHEB  20  24.0  16  24   20\n",
      "5   SCOA06           BHUTDA MAHESH SHANTILAL  20   9.0  AB   0   AB\n",
      "10  SCOA11             TRIPATHI VIKALP VIKAS  18  13.0   7  18   10\n",
      "11  SCOA12  SHAIKH AMAAN AHMED SHAKEEL AHMED  20  23.0  24  21   AB\n",
      "13  SCOA14                 GOYAL SURAJ MANOJ  16  19.0   9  13   10\n",
      "14  SCOA15              DHAWNE DEVANG GANESH  18  21.0  12  12   13\n",
      "16  SCOA17           KHATAL NANDINI RAJENDRA  12   NaN   5   7   AB\n",
      "17  SCOA18           BHUJBAL SRUSHTI VINAYAK  24  24.0  19  28   17\n",
      "20  SCOA21           BHONGALE OMKAR MADHUKAR  22  17.0  19  10   13\n",
      "\n",
      "\n",
      "--- m ---\n",
      "   Roll No          Name of the Student  DM   FDS OOP  CG DELD\n",
      "1   SCOA02    SOHAM JAYYANNTH DESHMUKKH  16   9.0   9  AB   AB\n",
      "2   SCOA03           SHELAR NEHA NILESH  20  23.0  16  15   15\n",
      "3   SCOA04                  RIYA JAWALE  18  14.0  11   8   15\n",
      "6   SCOA07         JAGTAP HARISH YUVRAJ  22  18.0   3  16    7\n",
      "7   SCOA08    DESHPANDE SRUSHTI VINAYAK  24  20.0  19  16   23\n",
      "8   SCOA09         DARWEY RUDRA GUNWANT  22  12.0   9  15    7\n",
      "9   SCOA10           ERANDE TEJAS DIPAK  24  18.0  11  23   AB\n",
      "12  SCOA13         MUNGASE SARTHAK ANIL  16  24.0  12  29   AB\n",
      "15  SCOA16         SHELKE GAURAV GIRISH  20  19.0  12   9   16\n",
      "18  SCOA19  CHINCHANE SANSKRUTI GAJANAN  22  23.0   7  14   14\n",
      "19  SCOA20           VIDULA VIKAS PATIL  20  24.0  16  26   20\n",
      "\n",
      "\n"
     ]
    }
   ],
   "source": [
    "\n",
    "\n",
    "# Print the grouped data\n",
    "for gender, group in dg:\n",
    "    print(f\"--- {gender} ---\")\n",
    "    print(group[['Roll No', 'Name of the Student', 'DM', 'FDS', 'OOP', 'CG', 'DELD']])\n",
    "    print(\"\\n\")\n"
   ]
  },
  {
   "cell_type": "code",
   "execution_count": 90,
   "id": "4a1dfd80",
   "metadata": {},
   "outputs": [
    {
     "name": "stdout",
     "output_type": "stream",
     "text": [
      "0.005371949412945186\n"
     ]
    }
   ],
   "source": [
    "correlation = df2['DM'].corr(df2['DELD'])\n",
    "\n",
    "print(correlation)\n"
   ]
  },
  {
   "cell_type": "code",
   "execution_count": 92,
   "id": "17fad6c5",
   "metadata": {},
   "outputs": [
    {
     "data": {
      "text/plain": [
       "count    21.000000\n",
       "mean     19.904762\n",
       "std       3.192253\n",
       "min      12.000000\n",
       "25%      18.000000\n",
       "50%      20.000000\n",
       "75%      22.000000\n",
       "max      24.000000\n",
       "Name: DM, dtype: float64"
      ]
     },
     "execution_count": 92,
     "metadata": {},
     "output_type": "execute_result"
    }
   ],
   "source": [
    "df2['DM'].describe()"
   ]
  },
  {
   "cell_type": "markdown",
   "id": "1dc8905c",
   "metadata": {},
   "source": [
    "df2[\"DM\"].drop_duplicates("
   ]
  },
  {
   "cell_type": "code",
   "execution_count": 93,
   "id": "4571099f",
   "metadata": {},
   "outputs": [
    {
     "data": {
      "text/plain": [
       "0     24\n",
       "1     16\n",
       "2     20\n",
       "3     18\n",
       "6     22\n",
       "16    12\n",
       "Name: DM, dtype: int64"
      ]
     },
     "execution_count": 93,
     "metadata": {},
     "output_type": "execute_result"
    }
   ],
   "source": [
    "df2[\"DM\"].drop_duplicates()"
   ]
  },
  {
   "cell_type": "code",
   "execution_count": null,
   "id": "5db40893",
   "metadata": {},
   "outputs": [],
   "source": []
  }
 ],
 "metadata": {
  "kernelspec": {
   "display_name": "Python 3 (ipykernel)",
   "language": "python",
   "name": "python3"
  },
  "language_info": {
   "codemirror_mode": {
    "name": "ipython",
    "version": 3
   },
   "file_extension": ".py",
   "mimetype": "text/x-python",
   "name": "python",
   "nbconvert_exporter": "python",
   "pygments_lexer": "ipython3",
   "version": "3.9.12"
  }
 },
 "nbformat": 4,
 "nbformat_minor": 5
}
